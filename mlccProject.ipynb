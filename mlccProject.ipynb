{
 "cells": [
  {
   "cell_type": "markdown",
   "metadata": {},
   "source": [
    "calculate Error function\n",
    "\n",
    "function err = calcErr(T, Y)\n",
    "\n",
    "    vT = (T >= 0);\n",
    "    \n",
    "    vY = (Y >= 0);\n",
    "    \n",
    "    err = sum(vT ~= vY)/numel(Y);\n",
    "    \n",
    "end\n"
   ]
  },
  {
   "cell_type": "code",
   "execution_count": 1,
   "metadata": {
    "collapsed": true
   },
   "outputs": [],
   "source": [
    "import numpy as np\n",
    "import matplotlib.pyplot as plt\n",
    "from scipy import *\n",
    "from numpy import *"
   ]
  },
  {
   "cell_type": "code",
   "execution_count": 2,
   "metadata": {
    "collapsed": true
   },
   "outputs": [],
   "source": [
    "def calculateErr(T, Y):\n",
    "    vT = (T >= 0);\n",
    "    vY = (Y >= 0);\n",
    "    err = sum(vT != vY)/size(Y);\n",
    "    return err\n"
   ]
  },
  {
   "cell_type": "code",
   "execution_count": 3,
   "metadata": {
    "collapsed": true
   },
   "outputs": [],
   "source": [
    "# function [X, Y] = MixGauss(means, sigmas, n)\n",
    "# %\n",
    "# % function [X, Y] = MixGauss(means, sigmas, n)\n",
    "# %\n",
    "# % means: (size dxp) and should be of the form [m1, ... ,mp] (each mi is\n",
    "# % d-dimensional)\n",
    "# %\n",
    "# % sigmas: (size px1) should be in the form [sigma_1;...; sigma_p]\n",
    "# %\n",
    "# % n: number of points per class\n",
    "# %\n",
    "# % X: obtained input data matrix (size 2n x d)\n",
    "# % Y: obtained output data vector (size 2n)\n",
    "# %\n",
    "# % EXAMPLE: [X, Y] = MixGauss([[0;0],[1;1]],[0.5,0.25],1000);\n",
    "# % generates a 2D dataset with two classes, the first one centered on (0,0)\n",
    "# % with standard deviation 0.5, the second one centered on (1,1)\n",
    "# % with standard deviation 0.25.\n",
    "# % Each class will contain 1000 points.\n",
    "# %\n",
    "# % to visualize: scatter(X(:,1),X(:,2),25,Y)\n",
    "\n",
    "# d = size(means,1);\n",
    "# p = size(means,2);\n",
    "\n",
    "# X = [];\n",
    "# Y = [];\n",
    "# for i = 1:p\n",
    "#     m = means(:,i);\n",
    "#     S = sigmas(i);\n",
    "#     Xi = zeros(n,d);\n",
    "#     Yi = zeros(n,1);\n",
    "#     for j = 1:n\n",
    "#         x = S*randn(d,1) + m;\n",
    "#         Xi(j,:) = x;\n",
    "#         Yi(j) = i;\n",
    "#     end\n",
    "#     X = [X; Xi];\n",
    "#     Y = [Y; Yi];\n",
    "# end\n"
   ]
  },
  {
   "cell_type": "code",
   "execution_count": 4,
   "metadata": {
    "collapsed": true
   },
   "outputs": [],
   "source": [
    "def MixGauss(means, sigmas, n):\n",
    "    numRowsOfMeans = means.shape[0];\n",
    "    numColsOfMeans = means.shape[1];\n",
    "    \n",
    "#     X = zeros((200,2))\n",
    "#     Y = zeros((200,1))\n",
    "    \n",
    "    X = zeros((200,2))\n",
    "    Y = zeros((200,1))\n",
    "#     X = []\n",
    "#     Y = []\n",
    "    for i in range(numColsOfMeans):\n",
    "        meansOfColumnI = means[:, i]\n",
    "        sigmaOfI = sigmas[i]\n",
    "        Xi = zeros((n, numRowsOfMeans))\n",
    "        Yi = zeros((n, 1))\n",
    "        \n",
    "        for j in range(n):\n",
    "            x = sigmaOfI * random.rand(numRowsOfMeans, 1) + meansOfColumnI\n",
    "            Xi[j, :] = squeeze(asarray(x))\n",
    "            Yi[j] = i+1\n",
    "            \n",
    "        tempXi = Xi\n",
    "        tempYi = Yi\n",
    "            \n",
    "        X = concatenate((Xi, Xi), axis=0)\n",
    "        Y = concatenate((Yi, Yi), axis=0)\n",
    "    return X, Y, tempXi, tempYi\n",
    "            "
   ]
  },
  {
   "cell_type": "code",
   "execution_count": 5,
   "metadata": {
    "collapsed": true
   },
   "outputs": [],
   "source": [
    "# def mixGauss(means=None, sigmas=None, n=None):\n",
    "#     #\n",
    "#     # function [X, Y] = MixGauss(means, sigmas, n)\n",
    "#     #\n",
    "#     # means: (size dxp) and should be of the form [m1, ... ,mp] (each mi is\n",
    "#     # d-dimensional)\n",
    "#     #\n",
    "#     # sigmas: (size px1) should be in the form [sigma_1;...; sigma_p]\n",
    "#     #\n",
    "#     # n: number of points per class\n",
    "#     #\n",
    "#     # X: obtained input data matrix (size 2n x d)\n",
    "#     # Y: obtained output data vector (size 2n)\n",
    "#     #\n",
    "#     # EXAMPLE: [X, Y] = MixGauss([[0;0],[1;1]],[0.5,0.25],1000);\n",
    "#     # generates a 2D dataset with two classes, the first one centered on (0,0)\n",
    "#     # with standard deviation 0.5, the second one centered on (1,1)\n",
    "#     # with standard deviation 0.25.\n",
    "#     # Each class will contain 1000 points.\n",
    "#     #\n",
    "#     # to visualize: scatter(X(:,1),X(:,2),25,Y)\n",
    "\n",
    "#     d = size(means, 1)\n",
    "#     p = size(means, 2)\n",
    "\n",
    "#     X = mcat([])\n",
    "#     Y = mcat([])\n",
    "#     for i in mslice[1:p]:\n",
    "#         m = means(mslice[:], i)\n",
    "#         S = sigmas(i)\n",
    "#         Xi = zeros(n, d)\n",
    "#         Yi = zeros(n, 1)\n",
    "#         for j in mslice[1:n]:\n",
    "#             x = S * randn(d, 1) + m\n",
    "#             Xi(j, mslice[:]).lvalue = x\n",
    "#             Yi(j).lvalue = i\n",
    "# #         end\n",
    "#         X = mcat([X, OMPCSEMI, Xi])\n",
    "#         Y = mcat([Y, OMPCSEMI, Yi])\n",
    "# #     end"
   ]
  },
  {
   "cell_type": "code",
   "execution_count": 6,
   "metadata": {
    "collapsed": true
   },
   "outputs": [],
   "source": [
    "# mixGauss(mcat([mcat([0, OMPCSEMI, 0]), mcat([1, OMPCSEMI, 1])]), mcat([0.5, 0.3]), 100);"
   ]
  },
  {
   "cell_type": "code",
   "execution_count": 7,
   "metadata": {
    "collapsed": true
   },
   "outputs": [],
   "source": [
    "# [Xtr, Ytr] = MixGauss([[0;0],[1;1]],[0.5,0.3],100);\n",
    "# array([[1.,2.,3.], [4.,5.,6.]])"
   ]
  },
  {
   "cell_type": "code",
   "execution_count": 8,
   "metadata": {
    "collapsed": true
   },
   "outputs": [],
   "source": [
    "X, Y, tempX, tempY = MixGauss(matrix([[0,1],[0,1]]), array([[0.5], [0.3]]), 100)"
   ]
  },
  {
   "cell_type": "code",
   "execution_count": 10,
   "metadata": {},
   "outputs": [
    {
     "data": {
      "text/plain": [
       "(200, 2)"
      ]
     },
     "execution_count": 10,
     "metadata": {},
     "output_type": "execute_result"
    }
   ],
   "source": [
    "shape(X)"
   ]
  },
  {
   "cell_type": "code",
   "execution_count": 9,
   "metadata": {
    "collapsed": true
   },
   "outputs": [],
   "source": [
    "# function [V, d, X_proj] = PCA(X, k)\n",
    "# % [V, d, X_proj] = PCA(X, k)\n",
    "# % computes the first k eigenvectors, eigenvalues and projections of the \n",
    "# % matrix X'*X/n where n is the number of rows in X.\n",
    "# %\n",
    "# % X is the dataset\n",
    "# % k is the number of components\n",
    "# %\n",
    "# % V is a matrix of the form [v_1, ..., v_k] where v_i is the i-th\n",
    "# % eigenvector\n",
    "# % d is the list of the first k eigenvalues\n",
    "# % X_proj is the projection of X on the linear space spanned by the\n",
    "# % eigenvectors in V\n",
    "#     n = size(X,1);\n",
    "#     [V, D] = eigs(X' * X/n, k);\n",
    "#     scipy.sparse.linalg.eigs\n",
    "#     d = diag(D);\n",
    "#     d = d.*(d>0);\n",
    "#     [d,I] = sort(d , 'descend');\n",
    "#     V = V(:,I);\n",
    "#     X_proj = X*V;\n",
    "# end"
   ]
  },
  {
   "cell_type": "code",
   "execution_count": 16,
   "metadata": {
    "collapsed": true
   },
   "outputs": [],
   "source": [
    "def PCA(X, k):\n",
    "    numRowsXFirstCol = X.shape[0]\n",
    "    V, D = scipy.sparse.linalg.eigs(X.conj().transpose().dot(X), k)\n",
    "    diagonal = diag(D)\n",
    "    kEigenValues = diagonal * (diagonal > 0)\n",
    "    kEigenValues, I = sorted(kEigenValues, reverse = True)\n",
    "    V = V[:, I]\n",
    "    X_proj = X.dot(V)"
   ]
  },
  {
   "cell_type": "code",
   "execution_count": null,
   "metadata": {
    "collapsed": true
   },
   "outputs": [],
   "source": [
    "# function [ w, r, I ] = OMatchingPursuit( X, Y, T)\n",
    "# % function [ w, r, I ] = OMatchingPursuit( X, Y, T)\n",
    "# % Orthogonal Maching Pursuit\n",
    "# %\n",
    "# % X input data\n",
    "# % Y output labels\n",
    "# % T number of iterations\n",
    "# %\n",
    "# % w estimated coefficients\n",
    "# % r residuals\n",
    "# % I indices\n",
    "    \n",
    "#     [N, D] = size(X);\n",
    "\n",
    "#     %%% Initialization of residual, coefficient vector and index set I\n",
    "#     r = Y;\n",
    "#     w = zeros(D, 1);\n",
    "#     I = [];\n",
    "    \n",
    "#     for i = 1:T-1\n",
    "        \n",
    "#         I_tmp = 1:D;\n",
    "        \n",
    "# \t\t%%% Select the column of X which most \"explains\" the residual\n",
    "#         a_max = -1;\n",
    "#         for j = I_tmp\n",
    "#             a_tmp = ((r' * X(:,j))^2)/(X(:,j)' * X(:,j));\n",
    "#             if a_tmp > a_max\n",
    "#                 a_max = a_tmp;\n",
    "#                 j_max = j;\n",
    "#             end\n",
    "#         end\n",
    "        \n",
    "# \t\t%%% Add the index to the set of indexes\n",
    "#         if sum(I == j_max) == 0\n",
    "#             I = [I j_max];\n",
    "#         end\n",
    "        \n",
    "        \n",
    "# \t\t%%% Compute the M matrix\n",
    "#         M_I = zeros(D,D);\n",
    "#         for j = I\n",
    "#             M_I(j,j) = 1;\n",
    "#         end\n",
    "        \n",
    "#         A = M_I * X' * X * M_I;\n",
    "#         B = M_I * X' * Y;\n",
    "        \n",
    "# \t\t%%% Update w\n",
    "#         w = pinv(A) * B;\n",
    "        \n",
    "# \t\t%%% Update the residual\n",
    "#         r = Y - X*w;\n",
    "        \n",
    "#     end\n",
    "    \n",
    "\n",
    "\n",
    "# end"
   ]
  },
  {
   "cell_type": "code",
   "execution_count": 17,
   "metadata": {
    "collapsed": true
   },
   "outputs": [],
   "source": [
    "def OMatchingPursuit(inputData, outputLabel, numOfIter):\n",
    "# X = array([[1.,2.,3.], [4.,5.,6.]])\n",
    "# row, col = shape(X)\n",
    "    numOfRow, numOfCol = shape(inputData)\n",
    "    residual = outputLabel\n",
    "    estimatedCoeff = zeros((numOfCol, 1))\n",
    "    indices = []\n",
    "    \n",
    "    for i in range(1, numOfIter - 1):\n",
    "        indices_tmp = list(range(1, numOfRow))\n",
    "        \n",
    "        a_max = "
   ]
  },
  {
   "cell_type": "code",
   "execution_count": 21,
   "metadata": {},
   "outputs": [
    {
     "name": "stdout",
     "output_type": "stream",
     "text": [
      "range(1, 8)\n"
     ]
    }
   ],
   "source": [
    "A = range(1, 8)\n",
    "print(A)"
   ]
  },
  {
   "cell_type": "code",
   "execution_count": 19,
   "metadata": {},
   "outputs": [
    {
     "data": {
      "text/plain": [
       "3"
      ]
     },
     "execution_count": 19,
     "metadata": {},
     "output_type": "execute_result"
    }
   ],
   "source": [
    "col"
   ]
  },
  {
   "cell_type": "code",
   "execution_count": null,
   "metadata": {
    "collapsed": true
   },
   "outputs": [],
   "source": []
  }
 ],
 "metadata": {
  "kernelspec": {
   "display_name": "Python 3",
   "language": "python",
   "name": "python3"
  },
  "language_info": {
   "codemirror_mode": {
    "name": "ipython",
    "version": 3
   },
   "file_extension": ".py",
   "mimetype": "text/x-python",
   "name": "python",
   "nbconvert_exporter": "python",
   "pygments_lexer": "ipython3",
   "version": "3.6.1"
  }
 },
 "nbformat": 4,
 "nbformat_minor": 2
}
